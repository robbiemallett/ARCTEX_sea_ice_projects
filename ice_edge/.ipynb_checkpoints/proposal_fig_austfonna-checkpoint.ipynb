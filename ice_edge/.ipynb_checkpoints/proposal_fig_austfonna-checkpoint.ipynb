{
 "cells": [
  {
   "cell_type": "code",
   "execution_count": 1,
   "id": "8269433e-6504-4567-a42c-a7f858ae4930",
   "metadata": {},
   "outputs": [
    {
     "name": "stderr",
     "output_type": "stream",
     "text": [
      "/tmp/ipykernel_23266/372960555.py:2: DeprecationWarning: \n",
      "Pyarrow will become a required dependency of pandas in the next major release of pandas (pandas 3.0),\n",
      "(to allow more performant data types, such as the Arrow string type, and better interoperability with other libraries)\n",
      "but was not found to be installed on your system.\n",
      "If this would cause problems for you,\n",
      "please provide us feedback at https://github.com/pandas-dev/pandas/issues/54466\n",
      "        \n",
      "  import pandas as pd\n"
     ]
    }
   ],
   "source": [
    "from netCDF4 import Dataset\n",
    "import pandas as pd\n",
    "from cartoplot import cartoplot\n",
    "import matplotlib.pyplot as plt\n",
    "import numpy as np\n",
    "import cartopy.crs as ccrs\n",
    "import cartopy\n",
    "import numpy.ma as ma"
   ]
  },
  {
   "cell_type": "code",
   "execution_count": 3,
   "id": "64d4260a-4f35-4614-976b-2f9c8a545fdb",
   "metadata": {},
   "outputs": [],
   "source": [
    "edge_dir = '/home/robbie/Dropbox/ARCTEX/projects/data/data'\n",
    "\n",
    "with Dataset(f'{edge_dir}/ice_edge_nh_ease2-125_cdr-v3p0_200607011200.nc') as d:\n",
    "    it_lon = np.array(d['lon'])\n",
    "    it_lat = np.array(d['lat'])\n",
    "    \n",
    "    critical_lon = 90\n",
    "    \n",
    "    lon2d_greater = ma.masked_greater(np.array(it_lon), critical_lon-0.01)\n",
    "    lon2d_lesser = ma.masked_less(np.array(it_lon), critical_lon)\n",
    "    \n",
    "    lat2d_greater = ma.MaskedArray(np.array(it_lat), mask=lon2d_greater.mask)\n",
    "    lat2d_lesser = ma.MaskedArray(np.array(it_lat), mask=lon2d_lesser.mask)"
   ]
  },
  {
   "cell_type": "code",
   "execution_count": null,
   "id": "35f1d238-2780-4152-957d-c6e29010b12f",
   "metadata": {},
   "outputs": [],
   "source": [
    "\n",
    "fig = plt.figure(figsize=(6,6))\n",
    "proj = ccrs.NorthPolarStereo()\n",
    "ax = plt.axes(projection=proj)\n",
    "\n",
    "month = '09'\n",
    "\n",
    "ax.set_extent([-180, 180,90, 65], ccrs.PlateCarree())\n",
    "\n",
    "ax.set_extent([-0.09e+06, 0.9e6, -1.6e6, -0.7e6], crs=ccrs.NorthPolarStereo()) \n",
    "\n",
    "ax.add_feature(cartopy.feature.LAND, edgecolor='black',zorder=1)\n",
    "\n",
    "\n",
    "for year, color in zip([2008,2010,2011,2013,2014],['r','g','magenta','orange','lightblue','darkblue',]):\n",
    "\n",
    "    with Dataset(f'{edge_dir}/ice_edge_nh_ease2-125_cdr-v3p0_{year}{month}011200.nc') as d:\n",
    "        \n",
    "        it = np.array(d['ice_edge'][0]).astype(np.float32)\n",
    "\n",
    "        it[((it_lat>75)&(it_lat<80))&((it_lon>10)&(it_lon<16))]=0\n",
    "        it[((it_lat>79)&(it_lat<80))&((it_lon>20)&(it_lon<22))]=0\n",
    "        it[((it_lat>77.5)&(it_lat<78.5))&((it_lon>21)&(it_lon<25))]=0\n",
    "\n",
    "        \n",
    "        it[it<=1] = 0\n",
    "        it[it>0] = 1\n",
    "        ice_type_lesser = ma.MaskedArray(it, mask=lon2d_lesser.mask)\n",
    "        ice_type_greater = ma.MaskedArray(it, mask=lon2d_greater.mask)\n",
    "        \n",
    "        \n",
    "        \n",
    "        cont_less = ax.contour(lon2d_lesser,\n",
    "                          lat2d_lesser,\n",
    "                          ice_type_lesser,\n",
    "                          levels=[0.5],\n",
    "                          transform=ccrs.PlateCarree(),\n",
    "                          colors=[color])\n",
    "        \n",
    "        cont_Great = ax.contour(lon2d_greater,\n",
    "                          lat2d_greater,\n",
    "                          ice_type_greater,\n",
    "                          levels=[0.5],\n",
    "                          colors=[color],\n",
    "                          transform=ccrs.PlateCarree())\n",
    "\n",
    "        plt.plot([],[],color=color,label=year)\n",
    "\n",
    "    # break\n",
    "\n",
    "ax.annotate('Sea Ice',xy=(0.05,0.95),va='top',xycoords='axes fraction',fontsize='xx-large')\n",
    "ax.annotate('Open Ocean',xy=(0.1,0.1),xycoords='axes fraction',fontsize='xx-large')\n",
    "ax.scatter(24.6,79.8,transform=ccrs.PlateCarree(),marker='*',s=302,c='k')\n",
    "plt.legend(title='Ice Edge\\nPosition',loc='lower right')\n",
    "fig.savefig('Ice_Edge.png',dpi=400,bbox_inches='tight')"
   ]
  },
  {
   "cell_type": "code",
   "execution_count": null,
   "id": "edcab52d-d319-4259-a54c-cdb2eb9c290e",
   "metadata": {},
   "outputs": [],
   "source": []
  }
 ],
 "metadata": {
  "kernelspec": {
   "display_name": "Python 3 (ipykernel)",
   "language": "python",
   "name": "python3"
  },
  "language_info": {
   "codemirror_mode": {
    "name": "ipython",
    "version": 3
   },
   "file_extension": ".py",
   "mimetype": "text/x-python",
   "name": "python",
   "nbconvert_exporter": "python",
   "pygments_lexer": "ipython3",
   "version": "3.9.18"
  }
 },
 "nbformat": 4,
 "nbformat_minor": 5
}
