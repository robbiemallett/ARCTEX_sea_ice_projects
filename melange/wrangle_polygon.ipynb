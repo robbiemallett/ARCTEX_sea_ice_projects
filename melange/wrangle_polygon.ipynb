{
 "cells": [
  {
   "cell_type": "code",
   "execution_count": 4,
   "id": "a738ed09-c021-4cfb-b6a5-31b51fb233f7",
   "metadata": {},
   "outputs": [],
   "source": [
    "from pykml import parser\n",
    "import numpy as np\n",
    "import pandas as pd\n",
    "from ll_xy import lonlat_to_xy\n",
    "\n",
    "with open('./melange_polygon.kml', 'r') as f:\n",
    "  root = parser.parse(f).getroot()\n",
    "namespace = {\"kml\": 'http://www.opengis.net/kml/2.2'}\n",
    "pms = root.xpath(\".//kml:Placemark[.//kml:Polygon]\", namespaces=namespace)\n",
    "x = str(pms[0].Polygon.outerBoundaryIs.LinearRing.coordinates)\n",
    "\n",
    "\n",
    "x = x.replace('\\t','')\n",
    "x = x.replace('\\n','')\n",
    "x = x.replace('0 ','')\n",
    "x = x[:-1]\n",
    "coords = x.split(',')\n",
    "lats = np.array([float(n) for n in coords[1::2]])\n",
    "lons = np.array([float(n) for n in coords[0::2]])\n",
    "\n",
    "xpoly,ypoly = lonlat_to_xy(lons,lats,hemisphere='n')\n",
    "dfpoly = pd.DataFrame({'x':xpoly,'y':ypoly,'lons':lons,'lats':lats})\n",
    "dfpoly.to_csv('fjord_poly_coords.csv')"
   ]
  }
 ],
 "metadata": {
  "kernelspec": {
   "display_name": "Python 3 (ipykernel)",
   "language": "python",
   "name": "python3"
  },
  "language_info": {
   "codemirror_mode": {
    "name": "ipython",
    "version": 3
   },
   "file_extension": ".py",
   "mimetype": "text/x-python",
   "name": "python",
   "nbconvert_exporter": "python",
   "pygments_lexer": "ipython3",
   "version": "3.9.18"
  }
 },
 "nbformat": 4,
 "nbformat_minor": 5
}
