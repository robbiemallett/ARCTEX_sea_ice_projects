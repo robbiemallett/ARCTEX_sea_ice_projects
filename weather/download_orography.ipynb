{
 "cells": [
  {
   "cell_type": "code",
   "execution_count": null,
   "id": "c7dd057a-80c5-45f0-9692-343fca54394e",
   "metadata": {},
   "outputs": [
    {
     "name": "stderr",
     "output_type": "stream",
     "text": [
      "2025-02-05 09:39:21,351 INFO [2024-09-26T00:00:00] Watch our [Forum](https://forum.ecmwf.int/) for Announcements, news and other discussed topics.\n",
      "2025-02-05 09:39:21,353 WARNING [2024-06-16T00:00:00] CDS API syntax is changed and some keys or parameter names may have also changed. To avoid requests failing, please use the \"Show API request code\" tool on the dataset Download Form to check you are using the correct syntax for your API request.\n",
      "2025-02-05 09:39:21,826 INFO Request ID is 942e689c-1dd5-4b87-9a13-bfbffa705cbf\n",
      "2025-02-05 09:39:21,947 INFO status has been updated to accepted\n"
     ]
    }
   ],
   "source": [
    "import cdsapi\n",
    "\n",
    "dataset = \"reanalysis-carra-single-levels\"\n",
    "request = {\n",
    "    \"domain\": \"west_domain\",\n",
    "    \"level_type\": \"surface_or_atmosphere\",\n",
    "    \"variable\": [\n",
    "        \"land_sea_mask\",\n",
    "        \"orography\"\n",
    "    ],\n",
    "    \"product_type\": \"analysis\",\n",
    "    \"time\": [\"00:00\"],\n",
    "    \"year\": [\"2023\"],\n",
    "    \"month\": [\"01\"],\n",
    "    \"day\": [\"01\"],\n",
    "    \"data_format\": \"netcdf\"\n",
    "}\n",
    "\n",
    "client = cdsapi.Client()\n",
    "client.retrieve(dataset, request).download()"
   ]
  }
 ],
 "metadata": {
  "kernelspec": {
   "display_name": "Python 3 (ipykernel)",
   "language": "python",
   "name": "python3"
  },
  "language_info": {
   "codemirror_mode": {
    "name": "ipython",
    "version": 3
   },
   "file_extension": ".py",
   "mimetype": "text/x-python",
   "name": "python",
   "nbconvert_exporter": "python",
   "pygments_lexer": "ipython3",
   "version": "3.9.18"
  }
 },
 "nbformat": 4,
 "nbformat_minor": 5
}
